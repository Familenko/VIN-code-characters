{
 "cells": [
  {
   "cell_type": "markdown",
   "id": "d7a2931f",
   "metadata": {},
   "source": [
    "**To determine the best parameters, architecture, and application, we will use GridSearch. However, in order to reduce the build time, it is necessary to decrease the amount of data**"
   ]
  },
  {
   "cell_type": "code",
   "execution_count": 28,
   "id": "c0747daa",
   "metadata": {},
   "outputs": [
    {
     "name": "stdout",
     "output_type": "stream",
     "text": [
      "Number of images in new_train: 7495\n",
      "Number of images in new_test: 161\n"
     ]
    }
   ],
   "source": [
    "from sklearn.model_selection import train_test_split\n",
    "import os\n",
    "import shutil\n",
    "\n",
    "data_dir = '/Users/aleksejkitajskij/Desktop/my_project/archive'\n",
    "\n",
    "# Створення папки для нових навчальних та тестових даних\n",
    "os.makedirs('new_Train', exist_ok=True)\n",
    "os.makedirs('new_Validation', exist_ok=True)\n",
    "\n",
    "\n",
    "# Прохід через папки \"Train\" і \"Test\"\n",
    "for folder in ['Train', 'Validation']:\n",
    "    folder_path = os.path.join(data_dir, folder)\n",
    "    new_folder_path = os.path.join('new_'+folder)\n",
    "\n",
    "    # Прохід через папки для кожної літери/цифри\n",
    "    for subfolder in os.listdir(folder_path):\n",
    "        subfolder_path = os.path.join(folder_path, subfolder)\n",
    "        if not os.path.isdir(subfolder_path):\n",
    "            continue\n",
    "\n",
    "        new_subfolder_path = os.path.join(new_folder_path, subfolder)\n",
    "        os.makedirs(new_subfolder_path)\n",
    "\n",
    "        filenames = os.listdir(subfolder_path)\n",
    "\n",
    "        # Розділення даних на навчальні та тестові\n",
    "        train_filenames, test_filenames = train_test_split(filenames, train_size = 0.01,test_size=0.01, random_state=42)\n",
    "\n",
    "        # Копіювання вибраних зображень в нові папки\n",
    "        for filename in train_filenames:\n",
    "            src_path = os.path.join(subfolder_path, filename)\n",
    "            dest_path = os.path.join(new_subfolder_path, filename)\n",
    "            shutil.copy(src_path, dest_path)\n",
    "\n",
    "# Вивід кількості зображень у нових наборах даних\n",
    "print('Number of images in new_train:', sum(len(os.listdir(os.path.join('new_Train', subfolder))) for subfolder in os.listdir('new_Train')))\n",
    "print('Number of images in new_test:', sum(len(os.listdir(os.path.join('new_Validation', subfolder))) for subfolder in os.listdir('new_Validation')))\n"
   ]
  },
  {
   "cell_type": "code",
   "execution_count": 36,
   "id": "33bd43f2",
   "metadata": {},
   "outputs": [
    {
     "name": "stdout",
     "output_type": "stream",
     "text": [
      "Found 7495 images belonging to 35 classes.\n",
      "Found 161 images belonging to 35 classes.\n"
     ]
    }
   ],
   "source": [
    "from tensorflow.keras.preprocessing.image import ImageDataGenerator\n",
    "\n",
    "train_datagen = ImageDataGenerator(rescale=1./255)\n",
    "test_datagen = ImageDataGenerator(rescale=1./255)\n",
    "\n",
    "train_dataCV = train_datagen.flow_from_directory(\n",
    "    '/Users/aleksejkitajskij/Desktop/my_project/new_Train',\n",
    "    target_size=(32, 32),\n",
    "    batch_size=320,\n",
    "    class_mode='categorical')\n",
    "\n",
    "test_dataCV = test_datagen.flow_from_directory(\n",
    "    '/Users/aleksejkitajskij/Desktop/my_project/new_Validation',\n",
    "    target_size=(32, 32),\n",
    "    batch_size=320,\n",
    "    class_mode='categorical')"
   ]
  },
  {
   "cell_type": "markdown",
   "id": "7f6a3cf2",
   "metadata": {},
   "source": [
    "**Building a GridSearch with two functions: call_existing_code that contains our model's parameters, and build_model that generates different variations of these parameters**"
   ]
  },
  {
   "cell_type": "code",
   "execution_count": 33,
   "id": "b63d86e3",
   "metadata": {
    "scrolled": true
   },
   "outputs": [
    {
     "name": "stdout",
     "output_type": "stream",
     "text": [
      "Trial 7 Complete [00h 07m 03s]\n",
      "val_accuracy: 0.11444984376430511\n",
      "\n",
      "Best val_accuracy So Far: 0.867598295211792\n",
      "Total elapsed time: 01h 13m 10s\n",
      "\n",
      "Search: Running Trial #8\n",
      "\n",
      "Value             |Best Value So Far |Hyperparameter\n",
      "EfficientNetB0    |DenseNet201       |application\n",
      "256               |256               |units\n",
      "tanh              |relu              |activation\n",
      "\n",
      "1237/2348 [==============>...............] - ETA: 3:04 - loss: 3.0154 - accuracy: 0.1667"
     ]
    }
   ],
   "source": [
    "import tensorflow as tf\n",
    "from tensorflow.keras import layers\n",
    "from tensorflow.keras.layers.experimental import preprocessing\n",
    "from tensorflow.keras.models import Sequential\n",
    "import keras_tuner\n",
    "\n",
    "def call_existing_code(application, units, activation):\n",
    "            \n",
    "    input_shape = (32, 32, 3)\n",
    "        \n",
    "    app_dic = {'DenseNet201': tf.keras.applications.DenseNet201(include_top=False),\n",
    "              'EfficientNetB0': tf.keras.applications.EfficientNetB0(include_top=False),\n",
    "              'VGG16': tf.keras.applications.VGG16(include_top=False)}\n",
    "    \n",
    "    pretrained_model = app_dic[application]\n",
    "    pretrained_model.trainable = False\n",
    "    inputs = tf.keras.layers.Input(shape=input_shape, name=\"input_layer\")\n",
    "\n",
    "    x = pretrained_model(inputs)\n",
    "    x = tf.keras.layers.GlobalMaxPooling2D()(x)\n",
    "    x = tf.keras.layers.Dense(units=units, activation=activation)(x)\n",
    "    x = tf.keras.layers.Dropout(rate=0.1)(x)  \n",
    "    \n",
    "    outputs = tf.keras.layers.Dense(35, activation='softmax')(x)\n",
    "    \n",
    "    model = tf.keras.Model(inputs=inputs, outputs=outputs)\n",
    "    model.compile(loss='categorical_crossentropy', optimizer='adam', metrics=['accuracy'])\n",
    "\n",
    "    return model\n",
    "\n",
    "def build_model(hp):\n",
    "    \n",
    "    app_list = [\"DenseNet201\",\"EfficientNetB0\",\"VGG16\"]\n",
    "    \n",
    "    application = hp.Choice(\"application\", app_list)\n",
    "    units = hp.Choice(\"units\", [136,256])\n",
    "    activation = hp.Choice(\"activation\", [\"relu\", \"tanh\"])\n",
    "    \n",
    "    model = call_existing_code(application=application,\n",
    "                              units=units,\n",
    "                              activation=activation)\n",
    "    return model\n",
    "\n",
    "tuner = keras_tuner.GridSearch(\n",
    "    hypermodel=build_model,\n",
    "    objective=\"val_accuracy\",\n",
    "    overwrite=True,\n",
    "    directory=\"Kytaiskyi\",\n",
    "    project_name=\"Grid\"\n",
    ")\n",
    "\n",
    "tuner.search(train_data, epochs=1, validation_data=test_data)\n"
   ]
  },
  {
   "cell_type": "code",
   "execution_count": 37,
   "id": "7630ee1e",
   "metadata": {},
   "outputs": [
    {
     "name": "stdout",
     "output_type": "stream",
     "text": [
      "Found 751228 images belonging to 35 classes.\n",
      "Found 18104 images belonging to 35 classes.\n"
     ]
    }
   ],
   "source": [
    "from tensorflow.keras.preprocessing.image import ImageDataGenerator\n",
    "\n",
    "train_datagen = ImageDataGenerator(rescale=1./255)\n",
    "test_datagen = ImageDataGenerator(rescale=1./255)\n",
    "\n",
    "train_data = train_datagen.flow_from_directory(\n",
    "    '/Users/aleksejkitajskij/Desktop/my_project/archive/Train',\n",
    "    target_size=(32, 32),\n",
    "    batch_size=320,\n",
    "    class_mode='categorical')\n",
    "\n",
    "test_data = test_datagen.flow_from_directory(\n",
    "    '/Users/aleksejkitajskij/Desktop/my_project/archive/Validation',\n",
    "    target_size=(32, 32),\n",
    "    batch_size=320,\n",
    "    class_mode='categorical')"
   ]
  },
  {
   "cell_type": "code",
   "execution_count": 17,
   "id": "6a536281",
   "metadata": {},
   "outputs": [
    {
     "name": "stdout",
     "output_type": "stream",
     "text": [
      "Epoch 1/10\n",
      "2348/2348 [==============================] - 400s 170ms/step - loss: 0.5927 - accuracy: 0.8297 - val_loss: 0.4740 - val_accuracy: 0.8623\n",
      "Epoch 2/10\n",
      "2348/2348 [==============================] - 441s 188ms/step - loss: 0.3534 - accuracy: 0.8895 - val_loss: 0.4453 - val_accuracy: 0.8695\n",
      "Epoch 3/10\n",
      "2348/2348 [==============================] - 452s 192ms/step - loss: 0.3132 - accuracy: 0.9004 - val_loss: 0.3985 - val_accuracy: 0.8795\n",
      "Epoch 4/10\n",
      "2348/2348 [==============================] - 456s 194ms/step - loss: 0.2907 - accuracy: 0.9065 - val_loss: 0.3665 - val_accuracy: 0.8872\n",
      "Epoch 5/10\n",
      "2348/2348 [==============================] - 475s 202ms/step - loss: 0.2751 - accuracy: 0.9105 - val_loss: 0.3711 - val_accuracy: 0.8793\n",
      "Epoch 6/10\n",
      "2348/2348 [==============================] - 504s 214ms/step - loss: 0.2636 - accuracy: 0.9140 - val_loss: 0.3373 - val_accuracy: 0.8968\n"
     ]
    }
   ],
   "source": [
    "from tensorflow.keras.applications import VGG16\n",
    "from tensorflow.keras.layers import Dense, Flatten\n",
    "from tensorflow.keras.models import Model\n",
    "import tensorflow as tf\n",
    "\n",
    "pretrained_model = VGG16(include_top=False, weights='imagenet', input_shape=(32, 32, 3))\n",
    "pretrained_model.trainable = False\n",
    "\n",
    "x = tf.keras.layers.GlobalMaxPooling2D()(pretrained_model.output)\n",
    "x = Dense(256, activation='relu')(x)\n",
    "x = Dense(35, activation='softmax')(x)\n",
    "\n",
    "model2 = Model(inputs=pretrained_model.input, outputs=x)\n",
    "model2.compile(loss='categorical_crossentropy', optimizer='adam', metrics=['accuracy'])\n",
    "\n",
    "history_model2 = model2.fit(train_data,\n",
    "                          epochs=10,\n",
    "                          validation_data=test_data,\n",
    "                          callbacks=[tf.keras.callbacks.EarlyStopping(monitor='accuracy', patience=5, min_delta=2)])"
   ]
  },
  {
   "cell_type": "code",
   "execution_count": 18,
   "id": "16f8cb26",
   "metadata": {},
   "outputs": [],
   "source": [
    "# model2.save(\"final_model.h5\")"
   ]
  },
  {
   "cell_type": "code",
   "execution_count": 20,
   "id": "a1082234",
   "metadata": {},
   "outputs": [
    {
     "data": {
      "image/png": "[encoded data removed]",
      "text/plain": [
       "<Figure size 640x480 with 1 Axes>"
      ]
     },
     "metadata": {},
     "output_type": "display_data"
    }
   ],
   "source": [
    "import matplotlib.pyplot as plt\n",
    "\n",
    "plt.plot(history_model2.history['accuracy'])\n",
    "plt.plot(history_model2.history['val_accuracy'])\n",
    "plt.title('Training Accuracy vs Validation Accuracy')\n",
    "plt.ylabel('Accuracy')\n",
    "plt.xlabel('Epoch')\n",
    "plt.legend(['Train', 'Validation'], loc='upper left')\n",
    "plt.show()"
   ]
  },
  {
   "cell_type": "code",
   "execution_count": 40,
   "id": "451b9374",
   "metadata": {},
   "outputs": [
    {
     "name": "stdout",
     "output_type": "stream",
     "text": [
      "57/57 [==============================] - 7s 122ms/step - loss: 0.3373 - accuracy: 0.8968\n"
     ]
    },
    {
     "data": {
      "text/plain": [
       "[0.3373206555843353, 0.8968183994293213]"
      ]
     },
     "execution_count": 40,
     "metadata": {},
     "output_type": "execute_result"
    }
   ],
   "source": [
    "model2.evaluate(test_data)"
   ]
  },
  {
   "cell_type": "code",
   "execution_count": null,
   "id": "973d6f35",
   "metadata": {},
   "outputs": [],
   "source": []
  }
 ],
 "metadata": {
  "kernelspec": {
   "display_name": "Python 3.10 (tensorflow)",
   "language": "python",
   "name": "tensorflow"
  },
  "language_info": {
   "codemirror_mode": {
    "name": "ipython",
    "version": 3
   },
   "file_extension": ".py",
   "mimetype": "text/x-python",
   "name": "python",
   "nbconvert_exporter": "python",
   "pygments_lexer": "ipython3",
   "version": "3.10.10"
  }
 },
 "nbformat": 4,
 "nbformat_minor": 5
}
